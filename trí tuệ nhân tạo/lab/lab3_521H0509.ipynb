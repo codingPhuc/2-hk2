{
  "nbformat": 4,
  "nbformat_minor": 0,
  "metadata": {
    "colab": {
      "provenance": []
    },
    "kernelspec": {
      "name": "python3",
      "display_name": "Python 3"
    },
    "language_info": {
      "name": "python"
    }
  },
  "cells": [
    {
      "cell_type": "markdown",
      "source": [
        "Course: **Introduction to Artificial Intelligence** \\\n",
        "Lecturer: **Nguyen Thanh An** \\\n",
        "Lab 03: **Local Search**"
      ],
      "metadata": {
        "id": "AdN_uf9Mex-d"
      }
    },
    {
      "cell_type": "markdown",
      "source": [
        "Students implement Hill-Climbing Search, Local Beam Search, and Simulated Annealing Search algorithms following TODO 1 - 3. \\\n",
        "Students can add supporting attributes and methods to the three classes as needed."
      ],
      "metadata": {
        "id": "mm5b-FZhfA5H"
      }
    },
    {
      "cell_type": "markdown",
      "source": [
        "# Libraries"
      ],
      "metadata": {
        "id": "9In-lpCRc7rc"
      }
    },
    {
      "cell_type": "code",
      "source": [
        "import os\n",
        "import heapq \n",
        "import math\n",
        "import random\n"
      ],
      "metadata": {
        "id": "baZnzmhNW8KU"
      },
      "execution_count": 35,
      "outputs": []
    },
    {
      "cell_type": "code",
      "source": [],
      "metadata": {
        "id": "YJf_lnOgbfqx"
      },
      "execution_count": 20,
      "outputs": []
    },
    {
      "cell_type": "markdown",
      "source": [
        "# Graph class"
      ],
      "metadata": {
        "id": "Hm_qjIb4dB8a"
      }
    },
    {
      "cell_type": "code",
      "execution_count": 4,
      "metadata": {
        "id": "IBUbARThU6VK"
      },
      "outputs": [],
      "source": [
        "# Directed, weighted graphs\n",
        "class Graph:\n",
        "  def __init__(self):\n",
        "    self.AL = dict() # adjacency list\n",
        "    self.V = 0\n",
        "    self.E = 0\n",
        "    self.H = dict()\n",
        "\n",
        "  def __str__(self):\n",
        "    res = 'V: %d, E: %d\\n'%(self.V, self.E)\n",
        "    for u, neighbors in self.AL.items():\n",
        "      line = '%d: %s\\n'%(u, str(neighbors))\n",
        "      res += line\n",
        "    for u, h in self.H.items():\n",
        "      line = 'h(%d) = %d\\n'%(u, h)\n",
        "    return res\n",
        "\n",
        "  def print(self):\n",
        "    print(str(self))\n",
        "\n",
        "  def load_from_file(self, filename):\n",
        "    '''\n",
        "        Example input file:\n",
        "            V E\n",
        "            u v w\n",
        "            u v w\n",
        "            u v w\n",
        "            ...\n",
        "            u1 h1\n",
        "            u2 h2\n",
        "            u3 h3\n",
        "            ...\n",
        "\n",
        "        # input.txt\n",
        "         7 8\n",
        "        0 1 5 \n",
        "        0 2 6\n",
        "        1 3 12\n",
        "        1 4 9\n",
        "        2 5 5\n",
        "        3 5 8\n",
        "        3 6 7\n",
        "        4 6 4\n",
        "        0 14\n",
        "        1 13\n",
        "        2 12\n",
        "        3 11\n",
        "        4 10\n",
        "        5 9\n",
        "        6 0\n",
        " \n",
        "    '''\n",
        "    if os.path.exists(filename):\n",
        "      with open(filename) as g:\n",
        "        self.V, self.E = [int(it) for it in g.readline().split()]\n",
        "        for i in range(self.E):\n",
        "          line = g.readline()\n",
        "          u, v, w = [int(it) for it in line.strip().split()]\n",
        "          if u not in self.AL:\n",
        "            self.AL[u] = []\n",
        "          self.AL[u].append((v, w))\n",
        "        for i in range(self.V):\n",
        "          line = g.readline()\n",
        "          u, h = [int(it) for it in line.strip().split()]\n",
        "          self.H[u] = h"
      ]
    },
    {
      "cell_type": "code",
      "source": [
        "g = Graph()\n",
        "g.load_from_file('input.txt')\n",
        "g.print()"
      ],
      "metadata": {
        "colab": {
          "base_uri": "https://localhost:8080/"
        },
        "id": "k_3EmSFKXtwk",
        "outputId": "7c744e46-67df-4567-9a82-7d82778d6781"
      },
      "execution_count": 5,
      "outputs": [
        {
          "output_type": "stream",
          "name": "stdout",
          "text": [
            "V: 7, E: 8\n",
            "0: [(1, 5), (2, 6)]\n",
            "1: [(3, 12), (4, 9)]\n",
            "2: [(5, 5)]\n",
            "3: [(5, 8), (6, 7)]\n",
            "4: [(6, 4)]\n",
            "\n"
          ]
        }
      ]
    },
    {
      "cell_type": "markdown",
      "source": [
        "# Search Strategies"
      ],
      "metadata": {
        "id": "95fgste5dFp0"
      }
    },
    {
      "cell_type": "code",
      "source": [
        "class LocalSearchStrategy:\n",
        "  def search(self, g: Graph, src: int) -> tuple:\n",
        "    visited = set()\n",
        "    pq = [(g.H[src], src)] # priority queue with heuristic value as priority\n",
        "    while pq:\n",
        "      h_u, u = heappop(pq)\n",
        "      if u in visited:\n",
        "        continue\n",
        "      visited.add(u)\n",
        "      if h_u == 0:\n",
        "        return (u, g.H[u]) # found local maximum\n",
        "      for v, w in g.AL[u]:\n",
        "        if v not in visited:\n",
        "          heappush(pq, (g.H[v], v))\n",
        "    return (src, g.H[src]) # no improvement found, return source vertex"
      ],
      "metadata": {
        "id": "DjEuaXToYqk6"
      },
      "execution_count": 6,
      "outputs": []
    },
    {
      "cell_type": "code",
      "source": [
        "class HillClimbingSearch(LocalSearchStrategy):\n",
        "  def search(self, g: Graph, src: int) -> tuple:\n",
        "    '''\n",
        "    return a tuple (u, p) in which\n",
        "      u: the local maximum state\n",
        "      p: the priority/weight/desirability/cost of u\n",
        "\n",
        "    Note: weight of a node u = path_cost to u + heuristic value of u (similar to A*)\n",
        "    '''\n",
        "    # Set the initial state to the source node\n",
        "    current_node = src\n",
        "    # Set the initial priority/weight/desirability/cost to the heuristic value of the source node\n",
        "    current_priority = g.H[src]\n",
        "\n",
        "    # Continue searching until a local maximum is found\n",
        "    while True:\n",
        "      # Find the neighbors of the current node\n",
        "      neighbors = g.AL.get(current_node, [])\n",
        "      \n",
        "      # If there are no neighbors, we've reached a local maximum\n",
        "      if not neighbors:\n",
        "        break\n",
        "      \n",
        "      # Find the neighbor with the highest priority/weight/desirability/cost\n",
        "      next_node, next_priority = max(neighbors, key=lambda x: g.H[x[0]])\n",
        "\n",
        "      # If the next node has a lower priority/weight/desirability/cost than the current node, we've reached a local maximum\n",
        "      if next_priority < current_priority:\n",
        "        break\n",
        "      \n",
        "      # Update the current node and priority/weight/desirability/cost to the next node and priority/weight/desirability/cost\n",
        "      current_node = next_node\n",
        "      current_priority = next_priority\n",
        "\n",
        "    return (current_node, current_priority)"
      ],
      "metadata": {
        "id": "Iax-_lNJZcQc"
      },
      "execution_count": 31,
      "outputs": []
    },
    {
      "cell_type": "code",
      "source": [
        "class LocalBeamSearch(LocalSearchStrategy):\n",
        "  def search(self, g: Graph, src: int) -> tuple:\n",
        "    '''\n",
        "    return a tuple (u, p) in which\n",
        "      u: the local maximum state\n",
        "      p: the priority/weight/desirability/cost of u\n",
        "\n",
        "    Note:\n",
        "    - weight of a node u = path_cost to u + heuristic value of u (similar to A*)\n",
        "    - parameter n is provided in the constructor\n",
        "    '''\n",
        "    return (None, None)"
      ],
      "metadata": {
        "id": "b3aVMO8YxGC9"
      },
      "execution_count": 32,
      "outputs": []
    },
    {
      "cell_type": "code",
      "source": [
        "class SimulatedAnnealingSearch(LocalSearchStrategy):\n",
        "    def search(self, g: Graph, src: int) -> tuple:\n",
        "        '''\n",
        "        return a tuple (u, p) in which\n",
        "          u: the local maximum state\n",
        "          p: the priority/weight/desirability/cost of u\n",
        "\n",
        "        Note: schedule(t) = 1/(t^2) with t is the iteration step\n",
        "        '''\n",
        "        current_node = src\n",
        "        current_value = g.H[src]\n",
        "\n",
        "        for t in range(1, 10001):  # set maximum number of iterations to 10000\n",
        "            T = 1.0 / (t**2)   # calculate temperature\n",
        "            neighbor_node = None\n",
        "            neighbor_value = None\n",
        "\n",
        "            # find a random neighbor node\n",
        "            while not neighbor_node:\n",
        "                v, w = random.choice(g.AL[current_node])\n",
        "                if v != current_node:\n",
        "                    neighbor_node = v\n",
        "                    neighbor_value = g.H[neighbor_node]\n",
        "\n",
        "            # calculate the change in value (delta)\n",
        "            delta = neighbor_value - current_value\n",
        "\n",
        "            # if neighbor_node is better than current_node, accept it\n",
        "            if delta > 0:\n",
        "                current_node = neighbor_node\n",
        "                current_value = neighbor_value\n",
        "\n",
        "            # if neighbor_node is worse than current_node, accept it with probability p\n",
        "            else:\n",
        "                p = math.exp(delta/T)\n",
        "                if random.random() < p:\n",
        "                    current_node = neighbor_node\n",
        "                    current_value = neighbor_value\n",
        "\n",
        "        # return the current node as the local maximum state\n",
        "        return (current_node, current_value)\n"
      ],
      "metadata": {
        "id": "OMwlpNHcxGYl"
      },
      "execution_count": 39,
      "outputs": []
    },
    {
      "cell_type": "markdown",
      "source": [
        "# Evaluation"
      ],
      "metadata": {
        "id": "hzWhWbDMdItW"
      }
    },
    {
      "cell_type": "code",
      "source": [
        "hcs = HillClimbingSearch()\n",
        "lbs = LocalBeamSearch()\n",
        "sas = SimulatedAnnealingSearch()\n",
        "\n",
        "for stg in [hcs, lbs, sas]:\n",
        "  print(stg)\n",
        "  u, p = stg.search(g, 0)\n",
        "  print(u, p)"
      ],
      "metadata": {
        "colab": {
          "base_uri": "https://localhost:8080/"
        },
        "id": "kI0wFSGuaKeT",
        "outputId": "fc0ed457-fb49-4159-e815-2daa24aaeef6"
      },
      "execution_count": 40,
      "outputs": [
        {
          "output_type": "stream",
          "name": "stdout",
          "text": [
            "<__main__.HillClimbingSearch object at 0x7f0c98a50730>\n",
            "0 14\n",
            "<__main__.LocalBeamSearch object at 0x7f0c98a505b0>\n",
            "None None\n",
            "<__main__.SimulatedAnnealingSearch object at 0x7f0c98a50e50>\n",
            "0 14\n"
          ]
        }
      ]
    },
    {
      "cell_type": "markdown",
      "source": [
        "# Submission Notice\n",
        "\n",
        "\n",
        "*   Maintain all cell outputs\n",
        "*   Download and rename the notebook as **lab03_\\<Student ID\\>.ipynb**\n",
        "*   Submit by the deadline\n"
      ],
      "metadata": {
        "id": "95erCQsOdTfL"
      }
    }
  ]
}